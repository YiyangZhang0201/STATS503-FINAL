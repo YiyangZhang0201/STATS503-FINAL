{
 "cells": [
  {
   "cell_type": "markdown",
   "id": "2e74528c-a549-4fb1-b5fb-6f830e3517c4",
   "metadata": {
    "tags": []
   },
   "source": [
    "# Build Factor\n",
    "\n",
    "In this notebook, we will build the factor for each stocks using XGboost model."
   ]
  },
  {
   "cell_type": "code",
   "execution_count": 24,
   "id": "578b20da-22d5-488f-91f5-45fab315d18b",
   "metadata": {},
   "outputs": [],
   "source": [
    "from numpy import loadtxt\n",
    "import numpy as np\n",
    "import pandas as pd\n",
    "from tqdm import tqdm\n",
    "import os\n",
    "from sklearn.metrics import mean_squared_error\n",
    "import pickle\n",
    "import xgboost as xgb\n",
    "from xgboost.sklearn import XGBRegressor\n",
    "import warnings\n",
    "import matplotlib.pyplot as plt\n",
    "import statistics as stat\n",
    "import seaborn as sns\n",
    "warnings.filterwarnings(\"ignore\")"
   ]
  },
  {
   "cell_type": "markdown",
   "id": "57285a32-69c2-4ffb-aa2a-a7d17f3fcad0",
   "metadata": {},
   "source": [
    "## Standardize the Factor on Market value and Industries using regression."
   ]
  },
  {
   "cell_type": "code",
   "execution_count": 25,
   "id": "9a3da61a-6e42-4f5c-af14-f40dc267554c",
   "metadata": {},
   "outputs": [
    {
     "name": "stderr",
     "output_type": "stream",
     "text": [
      "100%|██████████| 16/16 [00:00<00:00, 30.70it/s]\n"
     ]
    }
   ],
   "source": [
    "filenames=os.listdir(r'data\\individual_stocks')\n",
    "stock_list = []\n",
    "Ind_list = []\n",
    "for file in tqdm(filenames):\n",
    "    if file != \"20181217-20190616.xlsx\":\n",
    "        data = pd.read_excel(f\"data//individual_stocks//{file}\" , sheet_name=\"Sheet1\")\n",
    "        stock_list += data[\"代码\"].tolist()\n",
    "        Ind_list += data[\"中信一级行业\"].tolist()"
   ]
  },
  {
   "cell_type": "code",
   "execution_count": 26,
   "id": "1a4b00d3-0705-4dde-9b30-fc5af4002ace",
   "metadata": {},
   "outputs": [],
   "source": [
    "industry_information = pd.DataFrame(columns=[\"code\", \"Industry\"])\n",
    "industry_information[\"code\"] = stock_list\n",
    "industry_information[\"Industry\"] = Ind_list\n",
    "industry_information.drop_duplicates(inplace=True)"
   ]
  },
  {
   "cell_type": "markdown",
   "id": "fdd7ec08-5f8f-4964-b351-bf1b4f274cb4",
   "metadata": {},
   "source": [
    "### ADD Industry infromation into featured data."
   ]
  },
  {
   "cell_type": "code",
   "execution_count": 27,
   "id": "33b3f7bb-c781-4365-8794-d90e4f2d0968",
   "metadata": {},
   "outputs": [
    {
     "name": "stderr",
     "output_type": "stream",
     "text": [
      "  0%|          | 0/5 [00:00<?, ?it/s]"
     ]
    },
    {
     "name": "stdout",
     "output_type": "stream",
     "text": [
      "Average R^2 for cluster 0 is 0.04776628984225062\n",
      "Average Adjusted R^2 for cluster 0 is 0.04763745291759125\n"
     ]
    },
    {
     "name": "stderr",
     "output_type": "stream",
     "text": [
      " 20%|██        | 1/5 [00:02<00:08,  2.12s/it]"
     ]
    },
    {
     "name": "stdout",
     "output_type": "stream",
     "text": [
      "Average R^2 for cluster 1 is 0.0942086788275357\n",
      "Average Adjusted R^2 for cluster 1 is 0.09381057546038207\n"
     ]
    },
    {
     "name": "stderr",
     "output_type": "stream",
     "text": [
      " 40%|████      | 2/5 [00:05<00:07,  2.65s/it]"
     ]
    },
    {
     "name": "stdout",
     "output_type": "stream",
     "text": [
      "Average R^2 for cluster 2 is 0.03955534984136422\n",
      "Average Adjusted R^2 for cluster 2 is 0.03919592120992277\n"
     ]
    },
    {
     "name": "stderr",
     "output_type": "stream",
     "text": [
      " 60%|██████    | 3/5 [00:08<00:05,  2.91s/it]"
     ]
    },
    {
     "name": "stdout",
     "output_type": "stream",
     "text": [
      "Average R^2 for cluster 3 is 0.03753788291562199\n",
      "Average Adjusted R^2 for cluster 3 is 0.03702566252334727\n"
     ]
    },
    {
     "name": "stderr",
     "output_type": "stream",
     "text": [
      " 80%|████████  | 4/5 [00:09<00:02,  2.09s/it]"
     ]
    },
    {
     "name": "stdout",
     "output_type": "stream",
     "text": [
      "Average R^2 for cluster 4 is 0.021447522309219424\n",
      "Average Adjusted R^2 for cluster 4 is 0.02123063143383208\n"
     ]
    },
    {
     "name": "stderr",
     "output_type": "stream",
     "text": [
      "100%|██████████| 5/5 [00:13<00:00,  2.73s/it]\n"
     ]
    }
   ],
   "source": [
    "from statsmodels.formula.api import ols\n",
    "for clusters in tqdm(range(5)):\n",
    "    cluster_stocks = loadtxt(f'TrainingData/stocktype{clusters}.txt')\n",
    "    R2 = []\n",
    "    AR2 = []\n",
    "    stock_datac = pd.DataFrame()\n",
    "    for stock in cluster_stocks.tolist():\n",
    "        stock = int(stock)\n",
    "        stock_data = pd.read_csv(f\"featured_stock/{stock}.csv\")\n",
    "        index = industry_information.code[industry_information.code == str(stock)+\".SH\"].index.tolist()\n",
    "        stock_data[\"Industry\"] = [industry_information[\"Industry\"].loc[index[0]]]*len(stock_data)\n",
    "        x = stock_data.drop([\"time\", \"code\", \"Target\", \"Industry\"], axis=1)\n",
    "        # calculate unstandardized factor\n",
    "        loaded_model = pickle.load(open(f'model_rf_cluster{clusters}', 'rb'))\n",
    "        y_pred = loaded_model.predict(x)\n",
    "        stock_data[\"factor_ori\"] = y_pred\n",
    "        # aggregate data into cluster\n",
    "        stock_datac = pd.concat([stock_datac, stock_data[:1497]], axis=0)\n",
    "        stock_data.to_csv(f\"data_with_factor/{stock}.csv\", index=False)\n",
    "        # train the regression model\n",
    "    fit = ols('factor_ori ~ C(Industry) + market_value', data=stock_datac).fit()\n",
    "    R2.append(fit.rsquared)\n",
    "    AR2.append(fit.rsquared_adj)\n",
    "    print(f\"Average R^2 for cluster {clusters} is {np.mean(R2)}\")\n",
    "    print(f\"Average Adjusted R^2 for cluster {clusters} is {np.mean(AR2)}\")\n",
    "    \n",
    "    for stock in cluster_stocks.tolist():\n",
    "        stock = int(stock)\n",
    "        data = pd.read_csv(f\"data_with_factor/{int(stock)}.csv\")\n",
    "        data[\"FACTOR\"] = data[\"factor_ori\"] - fit.predict(data)\n",
    "        data.to_csv(f\"data_with_factor/{stock}.csv\", index=False)"
   ]
  },
  {
   "cell_type": "markdown",
   "id": "d673c3ac-e5df-4adb-8bbf-fbb6ebc86602",
   "metadata": {
    "tags": []
   },
   "source": [
    "## Factor Analysis\n",
    "\n",
    "### calculate IC"
   ]
  },
  {
   "cell_type": "code",
   "execution_count": 28,
   "id": "50244017-0a2b-4012-82c1-e08a0b431ae4",
   "metadata": {},
   "outputs": [
    {
     "data": {
      "text/plain": [
       "24"
      ]
     },
     "execution_count": 28,
     "metadata": {},
     "output_type": "execute_result"
    }
   ],
   "source": [
    "files=os.listdir(r'data_with_factor')\n",
    "drop_files = []\n",
    "for f in files:\n",
    "    data = pd.read_csv(f'data_with_factor/{f}')\n",
    "    if len(data) < 1749:\n",
    "        drop_files.append(f)\n",
    "len(drop_files)"
   ]
  },
  {
   "cell_type": "code",
   "execution_count": 29,
   "id": "77f9f098-2385-4e0f-80b2-b733011bf259",
   "metadata": {},
   "outputs": [
    {
     "name": "stderr",
     "output_type": "stream",
     "text": [
      "100%|██████████| 1497/1497 [20:57<00:00,  1.19it/s]\n"
     ]
    }
   ],
   "source": [
    "IC_list = []\n",
    "for i in tqdm(range(1497)):\n",
    "    # here all data has length 1749, and test data start from 1497\n",
    "    factor_list = []\n",
    "    return_list = []\n",
    "    for f in files:\n",
    "        if f not in drop_files:\n",
    "            data_c = pd.read_csv(f'data_with_factor/{f}')\n",
    "            factor_list.append(data_c[\"FACTOR\"].iloc[i])\n",
    "            return_list.append(data_c[\"Target\"].iloc[i])\n",
    "    IC_i = np.corrcoef(factor_list, return_list)\n",
    "    IC_list.append(IC_i[0][1])"
   ]
  },
  {
   "cell_type": "code",
   "execution_count": 30,
   "id": "89edf344-979b-46e2-989a-9473a97d87f9",
   "metadata": {},
   "outputs": [
    {
     "name": "stdout",
     "output_type": "stream",
     "text": [
      "Our factor's IR is 1.276476023256337\n",
      "Our factor's mean IC is 0.21624562028367675\n"
     ]
    }
   ],
   "source": [
    "IR = stat.mean(IC_list)/stat.stdev(IC_list)\n",
    "print(f\"Our factor's IR is {IR}\")\n",
    "print(f\"Our factor's mean IC is {stat.mean(IC_list)}\")"
   ]
  },
  {
   "cell_type": "code",
   "execution_count": 31,
   "id": "971ff3bb-a079-49eb-9677-84866c223d2a",
   "metadata": {},
   "outputs": [
    {
     "name": "stdout",
     "output_type": "stream",
     "text": [
      "positive proporation of IC is 0.9078156312625251\n"
     ]
    },
    {
     "data": {
      "image/png": "[encoded data removed]",
      "text/plain": [
       "<Figure size 432x288 with 1 Axes>"
      ]
     },
     "metadata": {
      "needs_background": "light"
     },
     "output_type": "display_data"
    }
   ],
   "source": [
    "sns.histplot(IC_list, bins=20)\n",
    "plt.xlabel(\"IC Value\")\n",
    "plt.axvline(x=stat.mean(IC_list),color='red')\n",
    "plt.title(\"Random Forest Factor IC\")\n",
    "plt.savefig(\"ICdistributionrf\")\n",
    "count = 0 \n",
    "for ic in IC_list:\n",
    "    if ic > 0:\n",
    "        count += 1\n",
    "print(f\"positive proporation of IC is {count/len(IC_list)}\")"
   ]
  },
  {
   "cell_type": "markdown",
   "id": "616cefe8-f236-4649-89fa-e760b21ec5b1",
   "metadata": {},
   "source": [
    "So, our factor meanly has a relatively steady power on selecting the stocks that are going to rise.\n",
    "\n",
    "## BACKTESTING\n",
    "\n",
    "Our backtesting period is 2021-03-01 to 2022-03-02. Index is 1497 to 1742.\n",
    "\n",
    "In this period, we experienced 3 time index compnents adjustment\n",
    "\n",
    "Our start moeny is 1000,000. Transection Cost is ignored."
   ]
  },
  {
   "cell_type": "code",
   "execution_count": 9,
   "id": "1c3c09e9-a93d-4ac1-9399-369595856298",
   "metadata": {},
   "outputs": [
    {
     "data": {
      "image/png": "[encoded data removed]",
      "text/plain": [
       "<Figure size 1080x360 with 1 Axes>"
      ]
     },
     "metadata": {
      "needs_background": "light"
     },
     "output_type": "display_data"
    }
   ],
   "source": [
    "Index = pd.read_excel(\"data/index.xlsx\")\n",
    "Index.columns = [\"Time\", \"prior_close\", \"open\", \"high\", \"low\", \"close\", \"volume\", \n",
    "                 \"amount\", \"change\", \"change_percent\"]\n",
    "plt.figure(figsize=(15,5))\n",
    "plt.plot(Index[\"close\"].iloc[1497:1742])\n",
    "plt.show()"
   ]
  },
  {
   "cell_type": "code",
   "execution_count": 10,
   "id": "00d6ce40-b5c4-4d09-a047-d7b5552fd1dd",
   "metadata": {},
   "outputs": [],
   "source": [
    "# period 2021-03-01 ~ 2021-06-14, index 1497:1568\n",
    "stock_list1 = pd.read_excel(\"data//individual_stocks//20201214-20210614.xlsx\",sheet_name=\"Sheet1\")[\"代码\"].tolist()\n",
    "# period 2021-06-16 ~ 2021-12-12, index 1568:1690\n",
    "stock_list2 = pd.read_excel(\"data//individual_stocks//20210616-20211212.xlsx\",sheet_name=\"Sheet1\")[\"代码\"].tolist()\n",
    "# period 2021-12-13 ~ 2022-03-02, index 1690:1742\n",
    "stock_list3 = pd.read_excel(\"data//individual_stocks//20211213-.xlsx\",sheet_name=\"Sheet1\")[\"代码\"].tolist()"
   ]
  },
  {
   "cell_type": "code",
   "execution_count": 11,
   "id": "2dd1c014-43f1-43e1-9757-2d3d29ece8c2",
   "metadata": {},
   "outputs": [],
   "source": [
    "def order_dict(dicts, n):\n",
    "    result = []\n",
    "    result1 = []\n",
    "    p = sorted([(k, v) for k, v in dicts.items()], reverse=True)\n",
    "    s = set()\n",
    "    for i in p:\n",
    "        s.add(i[1])\n",
    "    for i in sorted(s, reverse=True)[:n]:\n",
    "        for j in p:\n",
    "            if j[1] == i:\n",
    "                result.append(j)\n",
    "    for r in result:\n",
    "        result1.append(r[0])\n",
    "    return result1"
   ]
  },
  {
   "cell_type": "markdown",
   "id": "97c79729-f3d9-49fa-89f9-e5c837f239fe",
   "metadata": {},
   "source": [
    "Back_testing in period 2021-03-01 ~ 2021-06-14"
   ]
  },
  {
   "cell_type": "code",
   "execution_count": 12,
   "id": "6737ced9-4121-49d8-aa95-842a390f17ca",
   "metadata": {},
   "outputs": [],
   "source": [
    "def backtesting(stock_list, start, end, startmoney, n):\n",
    "    # get adjustment dates, 5 days per adjust\n",
    "    money_list = []\n",
    "    dates = []\n",
    "    for i in range((end-start)//5):\n",
    "        dates.append(start+5*i)\n",
    "    # get selected stocks at adjustment dates\n",
    "    for date in tqdm(dates):\n",
    "        if date != dates[-1]:\n",
    "            factor_dict = {}\n",
    "            for stock in stock_list:\n",
    "                data = pd.read_csv(f\"data_with_factor/{stock[:6]}.csv\")\n",
    "                if len(data) == 1749:\n",
    "                    factor_dict[stock] = data[\"FACTOR\"].iloc[date]\n",
    "                    \n",
    "            stock_selected = order_dict(factor_dict, n)#\n",
    "            print(stock_selected)#\n",
    "            # get return of selected stocks\n",
    "            return_list=[]\n",
    "            for ss in stock_selected:\n",
    "                r_l = []\n",
    "                ssdata = pd.read_csv(f\"data_with_factor/{ss[:6]}.csv\")\n",
    "                for k in range(5):\n",
    "                    r_l.append(ssdata[\"change_rate\"].iloc[date+k])\n",
    "                return_list.append(r_l)\n",
    "            # calculate the total return\n",
    "            total_return = []\n",
    "            for j in range(5):\n",
    "                return_ = 0\n",
    "                for h in range(n):#\n",
    "                    return_ += return_list[h][j]/100\n",
    "                total_return.append(return_)\n",
    "            for ret in total_return:\n",
    "                startmoney = startmoney/n * (n+ret)#\n",
    "                money_list.append(startmoney)\n",
    "        # calculaate the finishing dates\n",
    "        elif date == dates[-1]:\n",
    "            factor_dict = {}\n",
    "            for stock in stock_list:\n",
    "                data = pd.read_csv(f\"data_with_factor/{stock[:6]}.csv\")\n",
    "                if len(data) == 1749:\n",
    "                    factor_dict[stock] = data[\"FACTOR\"].iloc[date]\n",
    "            stock_selected = order_dict(factor_dict, n)#\n",
    "            # get return of selected stocks\n",
    "            return_list=[]\n",
    "            for ss in stock_selected:\n",
    "                r_l = []\n",
    "                ssdata = pd.read_csv(f\"data_with_factor/{ss[:6]}.csv\")\n",
    "                for k in range(5+(end-start)%5):\n",
    "                    r_l.append(ssdata[\"change_rate\"].iloc[date+k])\n",
    "                return_list.append(r_l)\n",
    "            # calculate the total return\n",
    "            total_return = []\n",
    "            for j in range(5+(end-start)%5):\n",
    "                return_ = 0\n",
    "                for h in range(n):#\n",
    "                    return_ += return_list[h][j]/100\n",
    "                total_return.append(return_)\n",
    "            for ret in total_return:\n",
    "                startmoney = startmoney/n * (n+ret)#\n",
    "                money_list.append(startmoney)\n",
    "    return money_list"
   ]
  },
  {
   "cell_type": "code",
   "execution_count": 13,
   "id": "aec87177-2a23-45d8-8a37-7092a8bac0ea",
   "metadata": {},
   "outputs": [
    {
     "name": "stderr",
     "output_type": "stream",
     "text": [
      "  7%|▋         | 1/14 [00:00<00:08,  1.47it/s]"
     ]
    },
    {
     "name": "stdout",
     "output_type": "stream",
     "text": [
      "['600837.SH', '600036.SH', '601688.SH', '601186.SH', '600276.SH']\n"
     ]
    },
    {
     "name": "stderr",
     "output_type": "stream",
     "text": [
      " 14%|█▍        | 2/14 [00:01<00:07,  1.66it/s]"
     ]
    },
    {
     "name": "stdout",
     "output_type": "stream",
     "text": [
      "['600030.SH', '600570.SH', '600048.SH', '600036.SH', '600276.SH']\n"
     ]
    },
    {
     "name": "stderr",
     "output_type": "stream",
     "text": [
      " 21%|██▏       | 3/14 [00:01<00:06,  1.78it/s]"
     ]
    },
    {
     "name": "stdout",
     "output_type": "stream",
     "text": [
      "['600745.SH', '600570.SH', '600030.SH', '601688.SH', '600276.SH']\n"
     ]
    },
    {
     "name": "stderr",
     "output_type": "stream",
     "text": [
      " 29%|██▊       | 4/14 [00:02<00:05,  1.86it/s]"
     ]
    },
    {
     "name": "stdout",
     "output_type": "stream",
     "text": [
      "['600570.SH', '601318.SH', '601688.SH', '601186.SH', '601336.SH']\n"
     ]
    },
    {
     "name": "stderr",
     "output_type": "stream",
     "text": [
      " 36%|███▌      | 5/14 [00:02<00:04,  1.87it/s]"
     ]
    },
    {
     "name": "stdout",
     "output_type": "stream",
     "text": [
      "['601688.SH', '600570.SH', '601318.SH', '600837.SH', '600030.SH']\n"
     ]
    },
    {
     "name": "stderr",
     "output_type": "stream",
     "text": [
      " 43%|████▎     | 6/14 [00:03<00:04,  1.89it/s]"
     ]
    },
    {
     "name": "stdout",
     "output_type": "stream",
     "text": [
      "['600745.SH', '601688.SH', '600048.SH', '601336.SH', '600837.SH']\n"
     ]
    },
    {
     "name": "stderr",
     "output_type": "stream",
     "text": [
      " 50%|█████     | 7/14 [00:03<00:03,  1.92it/s]"
     ]
    },
    {
     "name": "stdout",
     "output_type": "stream",
     "text": [
      "['600745.SH', '601688.SH', '600030.SH', '600048.SH', '601336.SH']\n"
     ]
    },
    {
     "name": "stderr",
     "output_type": "stream",
     "text": [
      " 57%|█████▋    | 8/14 [00:04<00:03,  1.93it/s]"
     ]
    },
    {
     "name": "stdout",
     "output_type": "stream",
     "text": [
      "['600745.SH', '601857.SH', '601318.SH', '600016.SH', '600276.SH']\n"
     ]
    },
    {
     "name": "stderr",
     "output_type": "stream",
     "text": [
      " 64%|██████▍   | 9/14 [00:04<00:02,  1.94it/s]"
     ]
    },
    {
     "name": "stdout",
     "output_type": "stream",
     "text": [
      "['600030.SH', '600745.SH', '601318.SH', '601688.SH', '600570.SH']\n"
     ]
    },
    {
     "name": "stderr",
     "output_type": "stream",
     "text": [
      " 71%|███████▏  | 10/14 [00:05<00:02,  1.94it/s]"
     ]
    },
    {
     "name": "stdout",
     "output_type": "stream",
     "text": [
      "['600745.SH', '601688.SH', '601318.SH', '600048.SH', '601628.SH']\n"
     ]
    },
    {
     "name": "stderr",
     "output_type": "stream",
     "text": [
      " 79%|███████▊  | 11/14 [00:05<00:01,  1.95it/s]"
     ]
    },
    {
     "name": "stdout",
     "output_type": "stream",
     "text": [
      "['600745.SH', '600030.SH', '600837.SH', '601166.SH', '601688.SH']\n"
     ]
    },
    {
     "name": "stderr",
     "output_type": "stream",
     "text": [
      " 86%|████████▌ | 12/14 [00:06<00:01,  1.96it/s]"
     ]
    },
    {
     "name": "stdout",
     "output_type": "stream",
     "text": [
      "['600745.SH', '601688.SH', '601888.SH', '600016.SH', '600000.SH']\n"
     ]
    },
    {
     "name": "stderr",
     "output_type": "stream",
     "text": [
      " 93%|█████████▎| 13/14 [00:06<00:00,  1.97it/s]"
     ]
    },
    {
     "name": "stdout",
     "output_type": "stream",
     "text": [
      "['600745.SH', '601688.SH', '601888.SH', '600570.SH', '601398.SH']\n"
     ]
    },
    {
     "name": "stderr",
     "output_type": "stream",
     "text": [
      "100%|██████████| 14/14 [00:07<00:00,  1.91it/s]\n"
     ]
    }
   ],
   "source": [
    "value1 = backtesting(stock_list1, 1497, 1568, 1000000, 5)"
   ]
  },
  {
   "cell_type": "code",
   "execution_count": 14,
   "id": "11044cd9-dff9-49d7-8b85-4c669b936bb6",
   "metadata": {},
   "outputs": [
    {
     "name": "stderr",
     "output_type": "stream",
     "text": [
      "  4%|▍         | 1/24 [00:00<00:11,  2.00it/s]"
     ]
    },
    {
     "name": "stdout",
     "output_type": "stream",
     "text": [
      "['600745.SH', '601688.SH', '600809.SH', '601318.SH', '600309.SH']\n"
     ]
    },
    {
     "name": "stderr",
     "output_type": "stream",
     "text": [
      "  8%|▊         | 2/24 [00:01<00:11,  1.95it/s]"
     ]
    },
    {
     "name": "stdout",
     "output_type": "stream",
     "text": [
      "['600745.SH', '600585.SH', '601318.SH', '601601.SH', '600036.SH']\n"
     ]
    },
    {
     "name": "stderr",
     "output_type": "stream",
     "text": [
      " 12%|█▎        | 3/24 [00:01<00:10,  1.95it/s]"
     ]
    },
    {
     "name": "stdout",
     "output_type": "stream",
     "text": [
      "['600745.SH', '600585.SH', '601688.SH', '601398.SH', '600309.SH']\n"
     ]
    },
    {
     "name": "stderr",
     "output_type": "stream",
     "text": [
      " 17%|█▋        | 4/24 [00:02<00:10,  1.93it/s]"
     ]
    },
    {
     "name": "stdout",
     "output_type": "stream",
     "text": [
      "['600030.SH', '600016.SH', '601688.SH', '601601.SH', '600036.SH']\n"
     ]
    },
    {
     "name": "stderr",
     "output_type": "stream",
     "text": [
      " 21%|██        | 5/24 [00:02<00:09,  1.93it/s]"
     ]
    },
    {
     "name": "stdout",
     "output_type": "stream",
     "text": [
      "['600745.SH', '600016.SH', '600036.SH', '600030.SH', '601318.SH']\n"
     ]
    },
    {
     "name": "stderr",
     "output_type": "stream",
     "text": [
      " 25%|██▌       | 6/24 [00:03<00:09,  1.92it/s]"
     ]
    },
    {
     "name": "stdout",
     "output_type": "stream",
     "text": [
      "['600570.SH', '600745.SH', '601336.SH', '600016.SH', '601318.SH']\n"
     ]
    },
    {
     "name": "stderr",
     "output_type": "stream",
     "text": [
      " 29%|██▉       | 7/24 [00:03<00:08,  1.90it/s]"
     ]
    },
    {
     "name": "stdout",
     "output_type": "stream",
     "text": [
      "['600048.SH', '600570.SH', '601318.SH', '601336.SH', '600016.SH']\n"
     ]
    },
    {
     "name": "stderr",
     "output_type": "stream",
     "text": [
      " 33%|███▎      | 8/24 [00:04<00:08,  1.92it/s]"
     ]
    },
    {
     "name": "stdout",
     "output_type": "stream",
     "text": [
      "['600570.SH', '601336.SH', '601888.SH', '600016.SH', '601818.SH']\n"
     ]
    },
    {
     "name": "stderr",
     "output_type": "stream",
     "text": [
      " 38%|███▊      | 9/24 [00:04<00:07,  1.92it/s]"
     ]
    },
    {
     "name": "stdout",
     "output_type": "stream",
     "text": [
      "['600570.SH', '601688.SH', '600016.SH', '601818.SH', '601336.SH']\n"
     ]
    },
    {
     "name": "stderr",
     "output_type": "stream",
     "text": [
      " 42%|████▏     | 10/24 [00:05<00:07,  1.93it/s]"
     ]
    },
    {
     "name": "stdout",
     "output_type": "stream",
     "text": [
      "['600570.SH', '600016.SH', '601818.SH', '600309.SH', '601336.SH']\n"
     ]
    },
    {
     "name": "stderr",
     "output_type": "stream",
     "text": [
      " 46%|████▌     | 11/24 [00:05<00:06,  1.92it/s]"
     ]
    },
    {
     "name": "stdout",
     "output_type": "stream",
     "text": [
      "['600837.SH', '601818.SH', '601688.SH', '600048.SH', '600309.SH']\n"
     ]
    },
    {
     "name": "stderr",
     "output_type": "stream",
     "text": [
      " 50%|█████     | 12/24 [00:06<00:06,  1.92it/s]"
     ]
    },
    {
     "name": "stdout",
     "output_type": "stream",
     "text": [
      "['601688.SH', '600837.SH', '601601.SH', '600030.SH', '601336.SH']\n"
     ]
    },
    {
     "name": "stderr",
     "output_type": "stream",
     "text": [
      " 54%|█████▍    | 13/24 [00:06<00:05,  1.92it/s]"
     ]
    },
    {
     "name": "stdout",
     "output_type": "stream",
     "text": [
      "['600837.SH', '601688.SH', '601398.SH', '600050.SH', '600030.SH']\n"
     ]
    },
    {
     "name": "stderr",
     "output_type": "stream",
     "text": [
      " 58%|█████▊    | 14/24 [00:07<00:05,  1.95it/s]"
     ]
    },
    {
     "name": "stdout",
     "output_type": "stream",
     "text": [
      "['601601.SH', '601336.SH', '600104.SH', '600547.SH', '601398.SH']\n"
     ]
    },
    {
     "name": "stderr",
     "output_type": "stream",
     "text": [
      " 62%|██████▎   | 15/24 [00:07<00:04,  1.95it/s]"
     ]
    },
    {
     "name": "stdout",
     "output_type": "stream",
     "text": [
      "['600745.SH', '601601.SH', '601336.SH', '601318.SH', '600309.SH']\n"
     ]
    },
    {
     "name": "stderr",
     "output_type": "stream",
     "text": [
      " 67%|██████▋   | 16/24 [00:08<00:04,  1.96it/s]"
     ]
    },
    {
     "name": "stdout",
     "output_type": "stream",
     "text": [
      "['600745.SH', '600893.SH', '600585.SH', '601899.SH', '601888.SH']\n"
     ]
    },
    {
     "name": "stderr",
     "output_type": "stream",
     "text": [
      " 71%|███████   | 17/24 [00:08<00:03,  1.95it/s]"
     ]
    },
    {
     "name": "stdout",
     "output_type": "stream",
     "text": [
      "['600745.SH', '600893.SH', '600585.SH', '601888.SH', '601818.SH']\n"
     ]
    },
    {
     "name": "stderr",
     "output_type": "stream",
     "text": [
      " 75%|███████▌  | 18/24 [00:09<00:03,  1.91it/s]"
     ]
    },
    {
     "name": "stdout",
     "output_type": "stream",
     "text": [
      "['600745.SH', '600837.SH', '600016.SH', '603288.SH', '600809.SH']\n"
     ]
    },
    {
     "name": "stderr",
     "output_type": "stream",
     "text": [
      " 79%|███████▉  | 19/24 [00:09<00:02,  1.87it/s]"
     ]
    },
    {
     "name": "stdout",
     "output_type": "stream",
     "text": [
      "['600745.SH', '601336.SH', '601818.SH', '601601.SH', '601688.SH']\n"
     ]
    },
    {
     "name": "stderr",
     "output_type": "stream",
     "text": [
      " 83%|████████▎ | 20/24 [00:10<00:02,  1.89it/s]"
     ]
    },
    {
     "name": "stdout",
     "output_type": "stream",
     "text": [
      "['601336.SH', '600570.SH', '601318.SH', '600893.SH', '601818.SH']\n"
     ]
    },
    {
     "name": "stderr",
     "output_type": "stream",
     "text": [
      " 88%|████████▊ | 21/24 [00:10<00:01,  1.89it/s]"
     ]
    },
    {
     "name": "stdout",
     "output_type": "stream",
     "text": [
      "['600837.SH', '601336.SH', '601601.SH', '601899.SH', '600690.SH']\n"
     ]
    },
    {
     "name": "stderr",
     "output_type": "stream",
     "text": [
      " 92%|█████████▏| 22/24 [00:11<00:01,  1.91it/s]"
     ]
    },
    {
     "name": "stdout",
     "output_type": "stream",
     "text": [
      "['601336.SH', '601818.SH', '600016.SH', '601601.SH', '601688.SH']\n"
     ]
    },
    {
     "name": "stderr",
     "output_type": "stream",
     "text": [
      " 96%|█████████▌| 23/24 [00:11<00:00,  1.91it/s]"
     ]
    },
    {
     "name": "stdout",
     "output_type": "stream",
     "text": [
      "['601601.SH', '601336.SH', '601818.SH', '600016.SH', '601628.SH']\n"
     ]
    },
    {
     "name": "stderr",
     "output_type": "stream",
     "text": [
      "100%|██████████| 24/24 [00:12<00:00,  1.92it/s]\n"
     ]
    }
   ],
   "source": [
    "value2 = backtesting(stock_list2, 1568, 1690, value1[-1], 5)"
   ]
  },
  {
   "cell_type": "code",
   "execution_count": 15,
   "id": "b57b3f87-6f64-4520-bac9-ac73141d9af7",
   "metadata": {},
   "outputs": [
    {
     "name": "stderr",
     "output_type": "stream",
     "text": [
      " 10%|█         | 1/10 [00:00<00:04,  1.92it/s]"
     ]
    },
    {
     "name": "stdout",
     "output_type": "stream",
     "text": [
      "['600745.SH', '600030.SH', '600837.SH', '601899.SH', '601688.SH']\n"
     ]
    },
    {
     "name": "stderr",
     "output_type": "stream",
     "text": [
      " 20%|██        | 2/10 [00:01<00:04,  1.86it/s]"
     ]
    },
    {
     "name": "stdout",
     "output_type": "stream",
     "text": [
      "['600745.SH', '601601.SH', '601336.SH', '601633.SH', '600036.SH']\n"
     ]
    },
    {
     "name": "stderr",
     "output_type": "stream",
     "text": [
      " 30%|███       | 3/10 [00:01<00:03,  1.89it/s]"
     ]
    },
    {
     "name": "stdout",
     "output_type": "stream",
     "text": [
      "['600745.SH', '600050.SH', '601601.SH', '600036.SH', '601336.SH']\n"
     ]
    },
    {
     "name": "stderr",
     "output_type": "stream",
     "text": [
      " 40%|████      | 4/10 [00:02<00:03,  1.89it/s]"
     ]
    },
    {
     "name": "stdout",
     "output_type": "stream",
     "text": [
      "['600050.SH', '600745.SH', '601601.SH', '601336.SH', '600036.SH']\n"
     ]
    },
    {
     "name": "stderr",
     "output_type": "stream",
     "text": [
      " 50%|█████     | 5/10 [00:02<00:02,  1.91it/s]"
     ]
    },
    {
     "name": "stdout",
     "output_type": "stream",
     "text": [
      "['600050.SH', '600900.SH', '601336.SH', '600745.SH', '601888.SH']\n"
     ]
    },
    {
     "name": "stderr",
     "output_type": "stream",
     "text": [
      " 60%|██████    | 6/10 [00:03<00:02,  1.91it/s]"
     ]
    },
    {
     "name": "stdout",
     "output_type": "stream",
     "text": [
      "['601336.SH', '601601.SH', '600050.SH', '601318.SH', '600900.SH']\n"
     ]
    },
    {
     "name": "stderr",
     "output_type": "stream",
     "text": [
      " 70%|███████   | 7/10 [00:03<00:01,  1.92it/s]"
     ]
    },
    {
     "name": "stdout",
     "output_type": "stream",
     "text": [
      "['600893.SH', '601899.SH', '601601.SH', '600309.SH', '600900.SH']\n"
     ]
    },
    {
     "name": "stderr",
     "output_type": "stream",
     "text": [
      " 80%|████████  | 8/10 [00:04<00:01,  1.92it/s]"
     ]
    },
    {
     "name": "stdout",
     "output_type": "stream",
     "text": [
      "['600893.SH', '601601.SH', '601336.SH', '601899.SH', '601628.SH']\n"
     ]
    },
    {
     "name": "stderr",
     "output_type": "stream",
     "text": [
      " 90%|█████████ | 9/10 [00:04<00:00,  1.93it/s]"
     ]
    },
    {
     "name": "stdout",
     "output_type": "stream",
     "text": [
      "['600893.SH', '601899.SH', '601601.SH', '600030.SH', '601336.SH']\n"
     ]
    },
    {
     "name": "stderr",
     "output_type": "stream",
     "text": [
      "100%|██████████| 10/10 [00:05<00:00,  1.92it/s]\n"
     ]
    }
   ],
   "source": [
    "value3 = backtesting(stock_list3, 1690, 1742, value2[-1], 5)"
   ]
  },
  {
   "cell_type": "code",
   "execution_count": 16,
   "id": "72163230-3ac2-475c-adfc-4a35ae98e659",
   "metadata": {},
   "outputs": [],
   "source": [
    "value1.extend(value2)\n",
    "value1.extend(value3)"
   ]
  },
  {
   "cell_type": "code",
   "execution_count": 17,
   "id": "3ca3679f-4984-4463-b570-0ce35d7e8548",
   "metadata": {},
   "outputs": [],
   "source": [
    "value = [1000000]\n",
    "value.extend(value1)"
   ]
  },
  {
   "cell_type": "code",
   "execution_count": 18,
   "id": "0f2ec1f1-cd6f-462b-9192-b5a8ad6ce7f2",
   "metadata": {},
   "outputs": [],
   "source": [
    "coe = 1000000/Index[\"open\"].iloc[1497]\n",
    "Index[\"close\"] = Index[\"close\"]*coe"
   ]
  },
  {
   "cell_type": "code",
   "execution_count": 19,
   "id": "e036154c-d900-40e5-ba5f-eb41cd01bb87",
   "metadata": {},
   "outputs": [],
   "source": [
    "Index_list = Index[\"close\"].iloc[1497:1742].values.tolist()"
   ]
  },
  {
   "cell_type": "code",
   "execution_count": 20,
   "id": "c0684ad7-5975-4155-a197-57686de4811c",
   "metadata": {},
   "outputs": [],
   "source": [
    "Index_value = [1000000]\n",
    "Index_value.extend(Index_list)"
   ]
  },
  {
   "cell_type": "code",
   "execution_count": 21,
   "id": "a926d25c-93d3-40d4-b0d1-2d96b081da8b",
   "metadata": {},
   "outputs": [
    {
     "data": {
      "image/png": "[encoded data removed]",
      "text/plain": [
       "<Figure size 1080x216 with 1 Axes>"
      ]
     },
     "metadata": {
      "needs_background": "light"
     },
     "output_type": "display_data"
    }
   ],
   "source": [
    "plt.figure(figsize=(15,3))\n",
    "plt.plot(Index_value, label=\"Index\")\n",
    "plt.plot(value, label=\"Portfolio\")\n",
    "plt.legend()\n",
    "plt.title(\"Index Value v.s. Factor Based Portfolio (Random Forest)\")\n",
    "plt.savefig(\"backtestresultrf\")"
   ]
  },
  {
   "cell_type": "code",
   "execution_count": 22,
   "id": "e6e01a35-6077-487c-9f79-71d40caf34f7",
   "metadata": {},
   "outputs": [
    {
     "name": "stdout",
     "output_type": "stream",
     "text": [
      "The yearly return of SSE 50 Index is -0.18087610752444389\n",
      "The yearly return of our factor based portfolio is -0.08928730595286866\n",
      "The excess return of our factor based portfolio is 0.09158880157157523\n"
     ]
    }
   ],
   "source": [
    "print(f\"The yearly return of SSE 50 Index is {(Index_value[-1]-Index_value[0])/Index_value[0]}\")\n",
    "print(f\"The yearly return of our factor based portfolio is {(value[-1]-value[0])/value[0]}\")\n",
    "print(f\"The excess return of our factor based portfolio is {(value[-1]-value[0])/value[0] - (Index_value[-1]-Index_value[0])/Index_value[0]}\")"
   ]
  },
  {
   "cell_type": "code",
   "execution_count": 23,
   "id": "32313729-c194-459b-ba5e-aba637289918",
   "metadata": {},
   "outputs": [],
   "source": [
    "value=np.array(value)\n",
    "np.save(\"valuerf.npy\",value)"
   ]
  }
 ],
 "metadata": {
  "kernelspec": {
   "display_name": "Python 3",
   "language": "python",
   "name": "python3"
  },
  "language_info": {
   "codemirror_mode": {
    "name": "ipython",
    "version": 3
   },
   "file_extension": ".py",
   "mimetype": "text/x-python",
   "name": "python",
   "nbconvert_exporter": "python",
   "pygments_lexer": "ipython3",
   "version": "3.8.8"
  }
 },
 "nbformat": 4,
 "nbformat_minor": 5
}

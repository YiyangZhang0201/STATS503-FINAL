{
 "cells": [
  {
   "cell_type": "code",
   "execution_count": 1,
   "id": "35025e90-1ae8-4f00-aba6-730b1ea9ca43",
   "metadata": {},
   "outputs": [],
   "source": [
    "from scipy.special import comb, perm"
   ]
  },
  {
   "cell_type": "code",
   "execution_count": 40,
   "id": "cf7ea24e-7dd8-49ec-81df-a565223ac74d",
   "metadata": {},
   "outputs": [],
   "source": [
    "p = 0.50515\n",
    "r = 0.8\n",
    "up = 10 * p * (1-p)**9 * r**9"
   ]
  },
  {
   "cell_type": "code",
   "execution_count": 41,
   "id": "4bb6e68f-da23-4dcf-976c-6570465c2621",
   "metadata": {},
   "outputs": [
    {
     "name": "stdout",
     "output_type": "stream",
     "text": [
      "0.09973036526093719\n"
     ]
    }
   ],
   "source": [
    "down = 0\n",
    "for i in range(11):\n",
    "    down += comb(10, i) * p**i * (1-p)**(10-i) * r**(i*(10-i))\n",
    "print(up/down)"
   ]
  },
  {
   "cell_type": "code",
   "execution_count": 42,
   "id": "c2ad62fc-b0b0-446a-a0cf-1afe681de13a",
   "metadata": {},
   "outputs": [
    {
     "name": "stdout",
     "output_type": "stream",
     "text": [
      "0.01209664684998464\n"
     ]
    }
   ],
   "source": [
    "print(down)"
   ]
  },
  {
   "cell_type": "code",
   "execution_count": null,
   "id": "9f9ce500-399a-4273-a8a0-a143c7a45155",
   "metadata": {},
   "outputs": [],
   "source": []
  }
 ],
 "metadata": {
  "kernelspec": {
   "display_name": "Python 3",
   "language": "python",
   "name": "python3"
  },
  "language_info": {
   "codemirror_mode": {
    "name": "ipython",
    "version": 3
   },
   "file_extension": ".py",
   "mimetype": "text/x-python",
   "name": "python",
   "nbconvert_exporter": "python",
   "pygments_lexer": "ipython3",
   "version": "3.8.8"
  }
 },
 "nbformat": 4,
 "nbformat_minor": 5
}
